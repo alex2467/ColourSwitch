{
 "cells": [
  {
   "cell_type": "code",
   "execution_count": 1,
   "metadata": {},
   "outputs": [],
   "source": [
    "features_done = 'betdays.sbg.zscore.t84d,bets.bng.avg.amount.t84d,bets.csn.avg.amount.t84d,bets.pkr.avg.amount.t84d,bets.sbk.avg.amount.t84d,bets.vgs.avg.amount.t84d,bets.sbg.qty.t1d,bets.sbg.qty.t84d,bets.sbg.ratio.amt.t85d,bets.sbg.ratio.t85d,bets.sbg.zscore.t84d,dem.age.years.t1d,dem.deprivation_income.score.t1d,dem.deprivation_employment.score.t1d,dem.gender_estimate.t1d,dep.sbg.amt.failed.t1d,dep.sbg.amt.failed.t84d,dep.sbg.amt.t1d,dep.sbg.amt.t84d,dep.sbg.qty.failed.low.funds.t1d,dep.sbg.qty.failed.low_funds.t84d,dep.sbg.qty.t1d,dep.sbg.qty.t84d,dep.sbg.qty.total.methods.t84d,dep.sbg.ratio.amt.t85d,dep.sbg.ratio.qty.t85d,dep.sbg.zscore.t84d,mgn.sbg.amt.t1d,mgn.sbg.amt.t84d,pnl.sbg.profit.ratio.t85d,stks.bng.max.dly_amt.t84d,stks.csn.max.dly_amt.t84d,stks.pkr.max.dly_amt.t84d,stks.sbk.max.dly_amt.t84d,stks.vgs.max.dly_amt.t84d,stks.sbg.amt.t1d,stks.sbg.amt.t84d,stks.sbg.coefvar.t84d,stks.sbg.ratio.t85d,stks.sbg.zscore.t84d,tos.sbg.secs.t1d,wtd.sbg.amt.t1d,wtd.sbg.amt.t84d,wtd.sbg.ratio.amt.t85d,wtd.sbg.ratio.qty.t85d,wtd.sbg.zscore.t84d,dep.sbg.amt.t365d,dep.sbg.amt.t61to2d,wtd.sbg.amt.t365d,dep.sbg.qty.t90d,dep.sbg_failed_low_funds.days_qty.t1d,dep.sbg_failed_low_funds.days_qty.t61to2d,mgn.bng.amt.t1d,mgn.csn.amt.t1d,mgn.pkr_cpnl.amt.t1d,mgn.sbk.amt.t1d,mgn.vgs.amt.t1d'.split(',')"
   ]
  },
  {
   "cell_type": "code",
   "execution_count": 3,
   "metadata": {},
   "outputs": [],
   "source": [
    "all_features = 'betdays.sbg.qty.t84d,betdays.sbk.qty.t365d,dem.age.bracket.t1d,dem.sbg.pm.qty.t1d,dem.sbg.pm.qty.tlt,dem.sbg.pm_lname_unq.qty.t1d,dem.sbg.pm_lname_unq.qty.tlt,dep.sbg_failed_low_funds.days_qty.t180d,dep.sbg_failed_low_funds.days_qty.t1d,dep.sbg_failed_low_funds.days_qty.t365d,dep.sbg_failed_low_funds.days_qty.t61to2d,dep.sbg_failed_low_funds.days_qty.t90d,dep.sbg_failed_low_funds.qty.t180d,dep.sbg_failed_low_funds.qty.t1d,dep.sbg_failed_low_funds.qty.t365d,dep.sbg_failed_low_funds.qty.t61to2d,dep.sbg_failed_low_funds.qty.t90d,dep.sbg.amt.t180d,dep.sbg.amt.t1d,dep.sbg.amt.t365d,dep.sbg.amt.t61to2d,dep.sbg.amt.t90d,dep.sbg.cc.ratio.amt.t85d,dep.sbg.cc.ratio.qty.t85d,dep.sbg.cc_new.qty.t1d,dep.sbg.cc_new.qty.t365d,dep.sbg.cc_transition.flag.t1d,dep.sbg.cc_transition.flag.t365d,dep.sbg.cc_unq.qty.t1d,dep.sbg.cc_unq.qty.t84d,dep.sbg.cc.amt.t1d,dep.sbg.cc.qty.t1d,dep.sbg.days_qty.t180d,dep.sbg.days_qty.t365d,dep.sbg.days_qty.t61to2d,dep.sbg.days_qty.t90d,dep.sbg.qty.failed.t1d,dep.sbg.qty.failed.t84d,dep.sbg.max_amt.t1d,dep.sbg.max_amt.t90d,dep.sbg.min_amt.t1d,dep.sbg.min_amt.t90d,dep.sbg.qty.t180d,dep.sbg.qty.t1d,dep.sbg.qty.t365d,dep.sbg.qty.t61to2d,dep.sbg.qty.t90d,flag.gamstop_rtn.t365d,flag.self_ex_rtn.t365d,mgn.bng.amt.t1d,mgn.csn.amt.t1d,mgn.pkr_cpnl.amt.t1d,mgn.sbk.amt.t1d,mgn.vgs.amt.t1d,stks.bng.amt_fbet.t1d,stks.csn.amt.t1d,stks.pkr_cpnl.amt.t1d,stks.sbk.amt.t1d,stks.vgs.amt.t1d,tos.sbg.coefvar.t30d,tos.sbg.coefvar.t60d,tos.sbg.coefvar.t90d,tos.sbg.secs.t1d,tos.sbg.secs.t7d,tos.sbg.secs_avg.t30d,tos.sbg.secs_avg.t57to2d,tos.sbg.secs_avg.t60d,tos.sbg.secs_avg.t90d,tos.sbg.secs_max.t30d,tos.sbg.secs_max.t60d,tos.sbg.secs_max.t90d,tos.sbg.secs_min.t30d,tos.sbg.secs_min.t60d,tos.sbg.secs_min.t90d,tos.sbg.sess_avg_qty.t57to2d,tos.sbg.sess.max.t1d,tos.sbg.sess.qty.t1d,tos.sbg.t10hplus_days.t365d,tos.sbg.t10hplus_days.t90d,wtd.sbg.amt.t180d,wtd.sbg.amt.t1d,wtd.sbg.amt.t365d,wtd.sbg.amt.t61to2d,wtd.sbg.amt.t90d,wtd.sbg.max_amt.t1d,wtd.sbg.max_amt.t90d,wtd.sbg.min_amt.t1d,wtd.sbg.min_amt.t90d,wtd.sbg.qty.t180d,wtd.sbg.qty.t61to2d,wtd.sbg.qty.failed.t1d,wtd.sbg.qty.failed.t84d'.split(',')"
   ]
  },
  {
   "cell_type": "code",
   "execution_count": 7,
   "metadata": {},
   "outputs": [
    {
     "name": "stdout",
     "output_type": "stream",
     "text": [
      "tos.sbg.secs_min.t60d,dem.sbg.pm.qty.tlt,tos.sbg.secs_min.t30d,tos.sbg.coefvar.t60d,dem.age.bracket.t1d,dem.sbg.pm_lname_unq.qty.tlt,dep.sbg_failed_low_funds.qty.t1d,dep.sbg.cc_unq.qty.t84d,tos.sbg.t10hplus_days.t90d,dep.sbg.amt.t180d,stks.sbk.amt.t1d,dep.sbg_failed_low_funds.days_qty.t90d,dep.sbg.qty.t61to2d,stks.bng.amt_fbet.t1d,tos.sbg.secs_avg.t57to2d,dem.sbg.pm_lname_unq.qty.t1d,tos.sbg.coefvar.t30d,dep.sbg.min_amt.t90d,wtd.sbg.qty.failed.t1d,stks.csn.amt.t1d,dep.sbg.max_amt.t90d,dem.sbg.pm.qty.t1d,dep.sbg.cc_transition.flag.t365d,dep.sbg.days_qty.t365d,dep.sbg.qty.failed.t1d,tos.sbg.secs_max.t30d,wtd.sbg.min_amt.t90d,tos.sbg.secs_avg.t60d,dep.sbg_failed_low_funds.qty.t90d,tos.sbg.secs_min.t90d,wtd.sbg.amt.t180d,dep.sbg.qty.t365d,dep.sbg.cc_unq.qty.t1d,tos.sbg.secs_avg.t30d,tos.sbg.secs_avg.t90d,dep.sbg_failed_low_funds.qty.t61to2d,dep.sbg.max_amt.t1d,dep.sbg.cc.ratio.amt.t85d,wtd.sbg.amt.t61to2d,stks.vgs.amt.t1d,tos.sbg.secs.t7d,dep.sbg.cc.amt.t1d,wtd.sbg.max_amt.t1d,dep.sbg.qty.t180d,tos.sbg.sess.qty.t1d,tos.sbg.coefvar.t90d,wtd.sbg.min_amt.t1d,tos.sbg.secs_max.t60d,tos.sbg.t10hplus_days.t365d,dep.sbg.cc_new.qty.t365d,dep.sbg.cc_new.qty.t1d,dep.sbg.cc.qty.t1d,dep.sbg_failed_low_funds.days_qty.t365d,stks.pkr_cpnl.amt.t1d,dep.sbg_failed_low_funds.qty.t365d,wtd.sbg.qty.failed.t84d,tos.sbg.sess_avg_qty.t57to2d,dep.sbg.days_qty.t61to2d,dep.sbg.cc.ratio.qty.t85d,dep.sbg_failed_low_funds.days_qty.t180d,betdays.sbg.qty.t84d,dep.sbg.cc_transition.flag.t1d,wtd.sbg.qty.t61to2d,dep.sbg.min_amt.t1d,dep.sbg.days_qty.t180d,dep.sbg_failed_low_funds.qty.t180d,wtd.sbg.qty.t180d,dep.sbg.days_qty.t90d,dep.sbg.amt.t90d,flag.gamstop_rtn.t365d,tos.sbg.secs_max.t90d,wtd.sbg.amt.t90d,wtd.sbg.max_amt.t90d,betdays.sbk.qty.t365d,tos.sbg.sess.max.t1d,flag.self_ex_rtn.t365d,dep.sbg.qty.failed.t84d\n"
     ]
    }
   ],
   "source": [
    "not_ran = list(set(all_features).difference(features_done))\n",
    "print(','.join(not_ran))"
   ]
  },
  {
   "cell_type": "code",
   "execution_count": null,
   "metadata": {},
   "outputs": [],
   "source": []
  }
 ],
 "metadata": {
  "interpreter": {
   "hash": "b0fa6594d8f4cbf19f97940f81e996739fb7646882a419484c72d19e05852a7e"
  },
  "kernelspec": {
   "display_name": "Python 3.9.7 64-bit",
   "name": "python3"
  },
  "language_info": {
   "codemirror_mode": {
    "name": "ipython",
    "version": 3
   },
   "file_extension": ".py",
   "mimetype": "text/x-python",
   "name": "python",
   "nbconvert_exporter": "python",
   "pygments_lexer": "ipython3",
   "version": "3.9.7"
  },
  "orig_nbformat": 4
 },
 "nbformat": 4,
 "nbformat_minor": 2
}
